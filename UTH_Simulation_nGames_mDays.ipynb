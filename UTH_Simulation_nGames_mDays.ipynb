{
 "cells": [
  {
   "cell_type": "markdown",
   "id": "989a26de",
   "metadata": {},
   "source": [
    "# Ultimate Texas Hold'em Simulation\n",
    "## m Days with n Games per Day"
   ]
  },
  {
   "cell_type": "code",
   "execution_count": 37,
   "id": "d0e77917",
   "metadata": {},
   "outputs": [],
   "source": [
    "from ultimatepoker import Game\n",
    "import sys\n",
    "import pandas\n",
    "from random import seed\n",
    "from random import gauss\n",
    "\n",
    "import matplotlib.pyplot as plt"
   ]
  },
  {
   "cell_type": "code",
   "execution_count": 28,
   "id": "3357d922",
   "metadata": {},
   "outputs": [],
   "source": [
    "n_games_per_day = 400\n",
    "m_days = 10000"
   ]
  },
  {
   "cell_type": "code",
   "execution_count": 29,
   "id": "5865d699",
   "metadata": {},
   "outputs": [],
   "source": [
    "bet_mean = 50\n",
    "bet_std = 0"
   ]
  },
  {
   "cell_type": "code",
   "execution_count": 30,
   "id": "ecfbd4a4",
   "metadata": {},
   "outputs": [],
   "source": [
    "daily_result = pandas.DataFrame(columns=[\n",
    "    'GameNr',\n",
    "    'PlayerCards',\n",
    "    'DealerCards',\n",
    "    'CommunityCards',\n",
    "    'PlayerHand',\n",
    "    'DealerHand',\n",
    "    'AnteBet',\n",
    "    'BlindBet',\n",
    "    'PlayBet',\n",
    "    'TripsBet',\n",
    "    'PlayerGain',\n",
    "    'PlayerTotalGain',\n",
    "    'PlayerTotalBet'\n",
    "], index=range(1, (n_games_per_day + 1)))"
   ]
  },
  {
   "cell_type": "code",
   "execution_count": null,
   "id": "74e2c5c4",
   "metadata": {},
   "outputs": [],
   "source": [
    "total_per_day = pandas.DataFrame(columns=[\n",
    "    'PlayerTotalGain',\n",
    "    'PlayerTotalBet',\n",
    "    'PlayerMaxGain'\n",
    "], index=range(1, (m_days + 1)))"
   ]
  },
  {
   "cell_type": "code",
   "execution_count": 31,
   "id": "fe71136a",
   "metadata": {},
   "outputs": [],
   "source": [
    "seed(42)\n",
    "for cur_day in range(m_days):\n",
    "    dailyGain = 0\n",
    "    dailyBet = 0\n",
    "    \n",
    "    for cur_game in range(n_games_per_day):\n",
    "        bet_size = gauss(bet_mean, bet_std)\n",
    "        \n",
    "        game = Game(bet_size, False)\n",
    "        gain, bet = game.playGame()\n",
    "        \n",
    "        daily_result['GameNr'][cur_game + 1] = cur_game\n",
    "        \n",
    "        daily_result['PlayerCards'][cur_game + 1] = str(game._player[0]) + ', ' + str(game._player[1])\n",
    "        daily_result['DealerCards'][cur_game + 1] = str(game._dealer[0]) + ', ' + str(game._dealer[1])\n",
    "        daily_result['CommunityCards'][cur_game + 1] = str(game._community[0]) + ', ' + \\\n",
    "                                                str(game._community[1]) + ', ' + \\\n",
    "                                                str(game._community[2]) + ', ' + \\\n",
    "                                                str(game._community[3]) + ', ' + \\\n",
    "                                                str(game._community[4])\n",
    "        \n",
    "        daily_result['PlayerHand'][cur_game + 1] = str(game._playerHand)\n",
    "        daily_result['DealerHand'][cur_game + 1] = str(game._dealerHand)\n",
    "        \n",
    "        daily_result['AnteBet'][cur_game + 1] = game._bet.ante\n",
    "        daily_result['BlindBet'][cur_game + 1] = game._bet.blind\n",
    "        daily_result['PlayBet'][cur_game + 1] = game._bet.play\n",
    "        daily_result['TripsBet'][cur_game + 1] = game._bet.trips\n",
    "        \n",
    "        dailyGain += gain\n",
    "        dailyBet += bet\n",
    "        \n",
    "        daily_result['PlayerGain'][cur_game + 1] = gain\n",
    "        \n",
    "        daily_result['PlayerTotalGain'][cur_game + 1] = dailyGain\n",
    "        daily_result['PlayerTotalBet'][cur_game + 1] = dailyBet\n",
    "    \n",
    "    total_per_day['PlayerTotalGain'][cur_day + 1] = dailyGain\n",
    "    total_per_day['PlayerTotalBet'][cur_day + 1] = dailyBet\n",
    "    total_per_day['PlayerMaxGain'][cur_day + 1] = max(daily_result['PlayerTotalGeain'])"
   ]
  },
  {
   "cell_type": "code",
   "execution_count": 32,
   "id": "9ea5865d",
   "metadata": {},
   "outputs": [
    {
     "data": {
      "text/html": [
       "<div>\n",
       "<style scoped>\n",
       "    .dataframe tbody tr th:only-of-type {\n",
       "        vertical-align: middle;\n",
       "    }\n",
       "\n",
       "    .dataframe tbody tr th {\n",
       "        vertical-align: top;\n",
       "    }\n",
       "\n",
       "    .dataframe thead th {\n",
       "        text-align: right;\n",
       "    }\n",
       "</style>\n",
       "<table border=\"1\" class=\"dataframe\">\n",
       "  <thead>\n",
       "    <tr style=\"text-align: right;\">\n",
       "      <th></th>\n",
       "      <th>GameNr</th>\n",
       "      <th>PlayerCards</th>\n",
       "      <th>DealerCards</th>\n",
       "      <th>CommunityCards</th>\n",
       "      <th>PlayerHand</th>\n",
       "      <th>DealerHand</th>\n",
       "      <th>AnteBet</th>\n",
       "      <th>BlindBet</th>\n",
       "      <th>PlayBet</th>\n",
       "      <th>TripsBet</th>\n",
       "      <th>PlayerGain</th>\n",
       "      <th>PlayerTotalGain</th>\n",
       "      <th>PlayerTotalBet</th>\n",
       "    </tr>\n",
       "  </thead>\n",
       "  <tbody>\n",
       "    <tr>\n",
       "      <th>1</th>\n",
       "      <td>0</td>\n",
       "      <td>3 of Clubs, Q of Clubs</td>\n",
       "      <td>A of Diamond, 9 of Hearts</td>\n",
       "      <td>A of Spade, K of Spade, K of Clubs, K of Diamo...</td>\n",
       "      <td>[K of Spade, K of Clubs, K of Diamond, Q of Cl...</td>\n",
       "      <td>[K of Spade, K of Clubs, K of Diamond, A of Di...</td>\n",
       "      <td>50.0</td>\n",
       "      <td>50.0</td>\n",
       "      <td>50.0</td>\n",
       "      <td>50.0</td>\n",
       "      <td>0.0</td>\n",
       "      <td>0.0</td>\n",
       "      <td>200.0</td>\n",
       "    </tr>\n",
       "    <tr>\n",
       "      <th>2</th>\n",
       "      <td>1</td>\n",
       "      <td>9 of Diamond, Q of Clubs</td>\n",
       "      <td>J of Hearts, 3 of Spade</td>\n",
       "      <td>9 of Spade, 5 of Diamond, 10 of Clubs, 10 of D...</td>\n",
       "      <td>[9 of Diamond, 9 of Spade, 10 of Clubs, 10 of ...</td>\n",
       "      <td>[10 of Clubs, 10 of Diamond, 7 of Spade, 9 of ...</td>\n",
       "      <td>50.0</td>\n",
       "      <td>50.0</td>\n",
       "      <td>100.0</td>\n",
       "      <td>50.0</td>\n",
       "      <td>100.0</td>\n",
       "      <td>100.0</td>\n",
       "      <td>450.0</td>\n",
       "    </tr>\n",
       "    <tr>\n",
       "      <th>3</th>\n",
       "      <td>2</td>\n",
       "      <td>10 of Hearts, Q of Diamond</td>\n",
       "      <td>2 of Spade, 3 of Clubs</td>\n",
       "      <td>5 of Clubs, 4 of Diamond, J of Clubs, 6 of Spa...</td>\n",
       "      <td>[6 of Spade, 8 of Diamond, 10 of Hearts, J of ...</td>\n",
       "      <td>[2 of Spade, 3 of Clubs, 4 of Diamond, 5 of Cl...</td>\n",
       "      <td>50.0</td>\n",
       "      <td>50.0</td>\n",
       "      <td>200.0</td>\n",
       "      <td>50.0</td>\n",
       "      <td>-350.0</td>\n",
       "      <td>-250.0</td>\n",
       "      <td>800.0</td>\n",
       "    </tr>\n",
       "    <tr>\n",
       "      <th>4</th>\n",
       "      <td>3</td>\n",
       "      <td>9 of Spade, 2 of Diamond</td>\n",
       "      <td>K of Hearts, 5 of Diamond</td>\n",
       "      <td>K of Spade, J of Spade, 4 of Hearts, 5 of Spad...</td>\n",
       "      <td>[4 of Hearts, 5 of Spade, 9 of Spade, J of Spa...</td>\n",
       "      <td>[K of Hearts, K of Spade, 5 of Diamond, 5 of S...</td>\n",
       "      <td>50.0</td>\n",
       "      <td>50.0</td>\n",
       "      <td>0.0</td>\n",
       "      <td>50.0</td>\n",
       "      <td>-150.0</td>\n",
       "      <td>-400.0</td>\n",
       "      <td>950.0</td>\n",
       "    </tr>\n",
       "    <tr>\n",
       "      <th>5</th>\n",
       "      <td>4</td>\n",
       "      <td>8 of Clubs, J of Hearts</td>\n",
       "      <td>A of Clubs, 10 of Clubs</td>\n",
       "      <td>4 of Diamond, K of Diamond, 6 of Spade, 3 of S...</td>\n",
       "      <td>[J of Hearts, J of Clubs, 6 of Spade, 8 of Clu...</td>\n",
       "      <td>[6 of Spade, 10 of Clubs, J of Clubs, K of Dia...</td>\n",
       "      <td>50.0</td>\n",
       "      <td>50.0</td>\n",
       "      <td>50.0</td>\n",
       "      <td>50.0</td>\n",
       "      <td>0.0</td>\n",
       "      <td>-400.0</td>\n",
       "      <td>1150.0</td>\n",
       "    </tr>\n",
       "    <tr>\n",
       "      <th>...</th>\n",
       "      <td>...</td>\n",
       "      <td>...</td>\n",
       "      <td>...</td>\n",
       "      <td>...</td>\n",
       "      <td>...</td>\n",
       "      <td>...</td>\n",
       "      <td>...</td>\n",
       "      <td>...</td>\n",
       "      <td>...</td>\n",
       "      <td>...</td>\n",
       "      <td>...</td>\n",
       "      <td>...</td>\n",
       "      <td>...</td>\n",
       "    </tr>\n",
       "    <tr>\n",
       "      <th>246</th>\n",
       "      <td>245</td>\n",
       "      <td>10 of Diamond, K of Spade</td>\n",
       "      <td>A of Diamond, 4 of Hearts</td>\n",
       "      <td>10 of Hearts, Q of Diamond, 9 of Clubs, 6 of H...</td>\n",
       "      <td>[9 of Clubs, 10 of Diamond, J of Hearts, Q of ...</td>\n",
       "      <td>[9 of Clubs, 10 of Hearts, J of Hearts, Q of D...</td>\n",
       "      <td>50.0</td>\n",
       "      <td>50.0</td>\n",
       "      <td>200.0</td>\n",
       "      <td>50.0</td>\n",
       "      <td>450.0</td>\n",
       "      <td>6700.0</td>\n",
       "      <td>60000.0</td>\n",
       "    </tr>\n",
       "    <tr>\n",
       "      <th>247</th>\n",
       "      <td>246</td>\n",
       "      <td>6 of Hearts, 6 of Spade</td>\n",
       "      <td>K of Spade, 4 of Hearts</td>\n",
       "      <td>J of Clubs, 10 of Clubs, K of Clubs, A of Spad...</td>\n",
       "      <td>[6 of Hearts, 6 of Spade, J of Clubs, K of Clu...</td>\n",
       "      <td>[K of Spade, K of Clubs, 10 of Clubs, J of Clu...</td>\n",
       "      <td>50.0</td>\n",
       "      <td>50.0</td>\n",
       "      <td>0.0</td>\n",
       "      <td>50.0</td>\n",
       "      <td>-150.0</td>\n",
       "      <td>6550.0</td>\n",
       "      <td>60150.0</td>\n",
       "    </tr>\n",
       "    <tr>\n",
       "      <th>248</th>\n",
       "      <td>247</td>\n",
       "      <td>8 of Hearts, J of Spade</td>\n",
       "      <td>A of Spade, 3 of Spade</td>\n",
       "      <td>4 of Clubs, 3 of Clubs, 9 of Spade, 10 of Spad...</td>\n",
       "      <td>[8 of Hearts, 9 of Spade, 10 of Spade, J of Sp...</td>\n",
       "      <td>[3 of Spade, 3 of Clubs, 10 of Spade, Q of Hea...</td>\n",
       "      <td>50.0</td>\n",
       "      <td>50.0</td>\n",
       "      <td>50.0</td>\n",
       "      <td>50.0</td>\n",
       "      <td>350.0</td>\n",
       "      <td>6900.0</td>\n",
       "      <td>60350.0</td>\n",
       "    </tr>\n",
       "    <tr>\n",
       "      <th>249</th>\n",
       "      <td>248</td>\n",
       "      <td>Q of Clubs, 2 of Diamond</td>\n",
       "      <td>5 of Spade, 3 of Diamond</td>\n",
       "      <td>J of Spade, K of Diamond, 4 of Spade, A of Clu...</td>\n",
       "      <td>[7 of Spade, J of Spade, Q of Clubs, K of Diam...</td>\n",
       "      <td>[5 of Spade, 7 of Spade, J of Spade, K of Diam...</td>\n",
       "      <td>50.0</td>\n",
       "      <td>50.0</td>\n",
       "      <td>0.0</td>\n",
       "      <td>50.0</td>\n",
       "      <td>-100.0</td>\n",
       "      <td>6800.0</td>\n",
       "      <td>60500.0</td>\n",
       "    </tr>\n",
       "    <tr>\n",
       "      <th>250</th>\n",
       "      <td>249</td>\n",
       "      <td>7 of Spade, 7 of Hearts</td>\n",
       "      <td>J of Hearts, 4 of Hearts</td>\n",
       "      <td>K of Hearts, A of Diamond, 2 of Diamond, 6 of ...</td>\n",
       "      <td>[7 of Spade, 7 of Hearts, Q of Clubs, K of Hea...</td>\n",
       "      <td>[6 of Spade, J of Hearts, Q of Clubs, K of Hea...</td>\n",
       "      <td>50.0</td>\n",
       "      <td>50.0</td>\n",
       "      <td>0.0</td>\n",
       "      <td>50.0</td>\n",
       "      <td>-100.0</td>\n",
       "      <td>6700.0</td>\n",
       "      <td>60650.0</td>\n",
       "    </tr>\n",
       "  </tbody>\n",
       "</table>\n",
       "<p>250 rows × 13 columns</p>\n",
       "</div>"
      ],
      "text/plain": [
       "    GameNr                 PlayerCards                DealerCards  \\\n",
       "1        0      3 of Clubs, Q of Clubs  A of Diamond, 9 of Hearts   \n",
       "2        1    9 of Diamond, Q of Clubs    J of Hearts, 3 of Spade   \n",
       "3        2  10 of Hearts, Q of Diamond     2 of Spade, 3 of Clubs   \n",
       "4        3    9 of Spade, 2 of Diamond  K of Hearts, 5 of Diamond   \n",
       "5        4     8 of Clubs, J of Hearts    A of Clubs, 10 of Clubs   \n",
       "..     ...                         ...                        ...   \n",
       "246    245   10 of Diamond, K of Spade  A of Diamond, 4 of Hearts   \n",
       "247    246     6 of Hearts, 6 of Spade    K of Spade, 4 of Hearts   \n",
       "248    247     8 of Hearts, J of Spade     A of Spade, 3 of Spade   \n",
       "249    248    Q of Clubs, 2 of Diamond   5 of Spade, 3 of Diamond   \n",
       "250    249     7 of Spade, 7 of Hearts   J of Hearts, 4 of Hearts   \n",
       "\n",
       "                                        CommunityCards  \\\n",
       "1    A of Spade, K of Spade, K of Clubs, K of Diamo...   \n",
       "2    9 of Spade, 5 of Diamond, 10 of Clubs, 10 of D...   \n",
       "3    5 of Clubs, 4 of Diamond, J of Clubs, 6 of Spa...   \n",
       "4    K of Spade, J of Spade, 4 of Hearts, 5 of Spad...   \n",
       "5    4 of Diamond, K of Diamond, 6 of Spade, 3 of S...   \n",
       "..                                                 ...   \n",
       "246  10 of Hearts, Q of Diamond, 9 of Clubs, 6 of H...   \n",
       "247  J of Clubs, 10 of Clubs, K of Clubs, A of Spad...   \n",
       "248  4 of Clubs, 3 of Clubs, 9 of Spade, 10 of Spad...   \n",
       "249  J of Spade, K of Diamond, 4 of Spade, A of Clu...   \n",
       "250  K of Hearts, A of Diamond, 2 of Diamond, 6 of ...   \n",
       "\n",
       "                                            PlayerHand  \\\n",
       "1    [K of Spade, K of Clubs, K of Diamond, Q of Cl...   \n",
       "2    [9 of Diamond, 9 of Spade, 10 of Clubs, 10 of ...   \n",
       "3    [6 of Spade, 8 of Diamond, 10 of Hearts, J of ...   \n",
       "4    [4 of Hearts, 5 of Spade, 9 of Spade, J of Spa...   \n",
       "5    [J of Hearts, J of Clubs, 6 of Spade, 8 of Clu...   \n",
       "..                                                 ...   \n",
       "246  [9 of Clubs, 10 of Diamond, J of Hearts, Q of ...   \n",
       "247  [6 of Hearts, 6 of Spade, J of Clubs, K of Clu...   \n",
       "248  [8 of Hearts, 9 of Spade, 10 of Spade, J of Sp...   \n",
       "249  [7 of Spade, J of Spade, Q of Clubs, K of Diam...   \n",
       "250  [7 of Spade, 7 of Hearts, Q of Clubs, K of Hea...   \n",
       "\n",
       "                                            DealerHand AnteBet BlindBet  \\\n",
       "1    [K of Spade, K of Clubs, K of Diamond, A of Di...    50.0     50.0   \n",
       "2    [10 of Clubs, 10 of Diamond, 7 of Spade, 9 of ...    50.0     50.0   \n",
       "3    [2 of Spade, 3 of Clubs, 4 of Diamond, 5 of Cl...    50.0     50.0   \n",
       "4    [K of Hearts, K of Spade, 5 of Diamond, 5 of S...    50.0     50.0   \n",
       "5    [6 of Spade, 10 of Clubs, J of Clubs, K of Dia...    50.0     50.0   \n",
       "..                                                 ...     ...      ...   \n",
       "246  [9 of Clubs, 10 of Hearts, J of Hearts, Q of D...    50.0     50.0   \n",
       "247  [K of Spade, K of Clubs, 10 of Clubs, J of Clu...    50.0     50.0   \n",
       "248  [3 of Spade, 3 of Clubs, 10 of Spade, Q of Hea...    50.0     50.0   \n",
       "249  [5 of Spade, 7 of Spade, J of Spade, K of Diam...    50.0     50.0   \n",
       "250  [6 of Spade, J of Hearts, Q of Clubs, K of Hea...    50.0     50.0   \n",
       "\n",
       "    PlayBet TripsBet PlayerGain PlayerTotalGain PlayerTotalBet  \n",
       "1      50.0     50.0        0.0             0.0          200.0  \n",
       "2     100.0     50.0      100.0           100.0          450.0  \n",
       "3     200.0     50.0     -350.0          -250.0          800.0  \n",
       "4       0.0     50.0     -150.0          -400.0          950.0  \n",
       "5      50.0     50.0        0.0          -400.0         1150.0  \n",
       "..      ...      ...        ...             ...            ...  \n",
       "246   200.0     50.0      450.0          6700.0        60000.0  \n",
       "247     0.0     50.0     -150.0          6550.0        60150.0  \n",
       "248    50.0     50.0      350.0          6900.0        60350.0  \n",
       "249     0.0     50.0     -100.0          6800.0        60500.0  \n",
       "250     0.0     50.0     -100.0          6700.0        60650.0  \n",
       "\n",
       "[250 rows x 13 columns]"
      ]
     },
     "execution_count": 32,
     "metadata": {},
     "output_type": "execute_result"
    }
   ],
   "source": [
    "daily_result"
   ]
  },
  {
   "cell_type": "code",
   "execution_count": 34,
   "id": "975f0ddf",
   "metadata": {},
   "outputs": [
    {
     "data": {
      "text/html": [
       "<div>\n",
       "<style scoped>\n",
       "    .dataframe tbody tr th:only-of-type {\n",
       "        vertical-align: middle;\n",
       "    }\n",
       "\n",
       "    .dataframe tbody tr th {\n",
       "        vertical-align: top;\n",
       "    }\n",
       "\n",
       "    .dataframe thead th {\n",
       "        text-align: right;\n",
       "    }\n",
       "</style>\n",
       "<table border=\"1\" class=\"dataframe\">\n",
       "  <thead>\n",
       "    <tr style=\"text-align: right;\">\n",
       "      <th></th>\n",
       "      <th>PlayerTotalGain</th>\n",
       "      <th>PlayerTotalBet</th>\n",
       "    </tr>\n",
       "  </thead>\n",
       "  <tbody>\n",
       "    <tr>\n",
       "      <th>1</th>\n",
       "      <td>-8475.0</td>\n",
       "      <td>58100.0</td>\n",
       "    </tr>\n",
       "    <tr>\n",
       "      <th>2</th>\n",
       "      <td>275.0</td>\n",
       "      <td>60450.0</td>\n",
       "    </tr>\n",
       "    <tr>\n",
       "      <th>3</th>\n",
       "      <td>950.0</td>\n",
       "      <td>61750.0</td>\n",
       "    </tr>\n",
       "    <tr>\n",
       "      <th>4</th>\n",
       "      <td>3900.0</td>\n",
       "      <td>59050.0</td>\n",
       "    </tr>\n",
       "    <tr>\n",
       "      <th>5</th>\n",
       "      <td>-2075.0</td>\n",
       "      <td>61450.0</td>\n",
       "    </tr>\n",
       "    <tr>\n",
       "      <th>...</th>\n",
       "      <td>...</td>\n",
       "      <td>...</td>\n",
       "    </tr>\n",
       "    <tr>\n",
       "      <th>9996</th>\n",
       "      <td>2175.0</td>\n",
       "      <td>61800.0</td>\n",
       "    </tr>\n",
       "    <tr>\n",
       "      <th>9997</th>\n",
       "      <td>4075.0</td>\n",
       "      <td>58400.0</td>\n",
       "    </tr>\n",
       "    <tr>\n",
       "      <th>9998</th>\n",
       "      <td>-750.0</td>\n",
       "      <td>60850.0</td>\n",
       "    </tr>\n",
       "    <tr>\n",
       "      <th>9999</th>\n",
       "      <td>2525.0</td>\n",
       "      <td>60100.0</td>\n",
       "    </tr>\n",
       "    <tr>\n",
       "      <th>10000</th>\n",
       "      <td>6700.0</td>\n",
       "      <td>60650.0</td>\n",
       "    </tr>\n",
       "  </tbody>\n",
       "</table>\n",
       "<p>10000 rows × 2 columns</p>\n",
       "</div>"
      ],
      "text/plain": [
       "      PlayerTotalGain PlayerTotalBet\n",
       "1             -8475.0        58100.0\n",
       "2               275.0        60450.0\n",
       "3               950.0        61750.0\n",
       "4              3900.0        59050.0\n",
       "5             -2075.0        61450.0\n",
       "...               ...            ...\n",
       "9996           2175.0        61800.0\n",
       "9997           4075.0        58400.0\n",
       "9998           -750.0        60850.0\n",
       "9999           2525.0        60100.0\n",
       "10000          6700.0        60650.0\n",
       "\n",
       "[10000 rows x 2 columns]"
      ]
     },
     "execution_count": 34,
     "metadata": {},
     "output_type": "execute_result"
    }
   ],
   "source": [
    "total_per_day"
   ]
  },
  {
   "cell_type": "code",
   "execution_count": 48,
   "id": "f30a8699",
   "metadata": {},
   "outputs": [
    {
     "data": {
      "text/plain": [
       "Text(0, 0.5, 'Frequency')"
      ]
     },
     "execution_count": 48,
     "metadata": {},
     "output_type": "execute_result"
    },
    {
     "data": {
      "image/png": "[encoded data removed]",
      "text/plain": [
       "<Figure size 640x480 with 1 Axes>"
      ]
     },
     "metadata": {},
     "output_type": "display_data"
    }
   ],
   "source": [
    "n, bins, patches = plt.hist(x=total_per_day['PlayerTotalGain'],\n",
    "                           bins='auto',\n",
    "                           color='#1A2B44', # Night Blue: #1A2B44 St. Moritz Gold: #B79164\n",
    "                           alpha=0.9,\n",
    "                           rwidth=0.85)\n",
    "plt.grid(axis='y', alpha=0.75)\n",
    "plt.xlabel('Player gain for one day')\n",
    "plt.ylabel('Frequency')"
   ]
  },
  {
   "cell_type": "code",
   "execution_count": 49,
   "id": "70cefc1b",
   "metadata": {},
   "outputs": [
    {
     "data": {
      "text/plain": [
       "36325.0"
      ]
     },
     "execution_count": 49,
     "metadata": {},
     "output_type": "execute_result"
    }
   ],
   "source": [
    "max(total_per_day['PlayerTotalGain'])"
   ]
  },
  {
   "cell_type": "code",
   "execution_count": 64,
   "id": "a80b64f2",
   "metadata": {},
   "outputs": [
    {
     "data": {
      "text/plain": [
       "GameNr                                                           247\n",
       "PlayerCards                                  8 of Hearts, J of Spade\n",
       "DealerCards                                   A of Spade, 3 of Spade\n",
       "CommunityCards     4 of Clubs, 3 of Clubs, 9 of Spade, 10 of Spad...\n",
       "PlayerHand         [8 of Hearts, 9 of Spade, 10 of Spade, J of Sp...\n",
       "DealerHand         [3 of Spade, 3 of Clubs, 10 of Spade, Q of Hea...\n",
       "AnteBet                                                         50.0\n",
       "BlindBet                                                        50.0\n",
       "PlayBet                                                         50.0\n",
       "TripsBet                                                        50.0\n",
       "PlayerGain                                                     350.0\n",
       "PlayerTotalGain                                               6900.0\n",
       "PlayerTotalBet                                               60350.0\n",
       "Name: 248, dtype: object"
      ]
     },
     "execution_count": 64,
     "metadata": {},
     "output_type": "execute_result"
    }
   ],
   "source": [
    "daily_result.iloc[247]"
   ]
  },
  {
   "cell_type": "code",
   "execution_count": 62,
   "id": "94153e93",
   "metadata": {},
   "outputs": [
    {
     "data": {
      "text/plain": [
       "'8 of Hearts, J of Spade'"
      ]
     },
     "execution_count": 62,
     "metadata": {},
     "output_type": "execute_result"
    }
   ],
   "source": [
    "daily_result['PlayerCards'][248]"
   ]
  },
  {
   "cell_type": "code",
   "execution_count": 63,
   "id": "0fe9c795",
   "metadata": {},
   "outputs": [
    {
     "data": {
      "text/plain": [
       "'A of Spade, 3 of Spade'"
      ]
     },
     "execution_count": 63,
     "metadata": {},
     "output_type": "execute_result"
    }
   ],
   "source": [
    "daily_result['DealerCards'][248]"
   ]
  },
  {
   "cell_type": "code",
   "execution_count": 65,
   "id": "78d26e3f",
   "metadata": {},
   "outputs": [
    {
     "data": {
      "text/plain": [
       "'4 of Clubs, 3 of Clubs, 9 of Spade, 10 of Spade, Q of Hearts'"
      ]
     },
     "execution_count": 65,
     "metadata": {},
     "output_type": "execute_result"
    }
   ],
   "source": [
    "daily_result['CommunityCards'][248]"
   ]
  },
  {
   "cell_type": "code",
   "execution_count": 58,
   "id": "836ebb1c",
   "metadata": {},
   "outputs": [
    {
     "data": {
      "text/plain": [
       "'[8 of Hearts, 9 of Spade, 10 of Spade, J of Spade, Q of Hearts] (Type: STRAIGHT)'"
      ]
     },
     "execution_count": 58,
     "metadata": {},
     "output_type": "execute_result"
    }
   ],
   "source": [
    "daily_result['PlayerHand'][248]"
   ]
  },
  {
   "cell_type": "code",
   "execution_count": 66,
   "id": "714a837b",
   "metadata": {},
   "outputs": [
    {
     "data": {
      "text/plain": [
       "'[3 of Spade, 3 of Clubs, 10 of Spade, Q of Hearts, A of Spade] (Type: PAIR)'"
      ]
     },
     "execution_count": 66,
     "metadata": {},
     "output_type": "execute_result"
    }
   ],
   "source": [
    "daily_result['DealerHand'][248]"
   ]
  }
 ],
 "metadata": {
  "kernelspec": {
   "display_name": "Python 3 (ipykernel)",
   "language": "python",
   "name": "python3"
  },
  "language_info": {
   "codemirror_mode": {
    "name": "ipython",
    "version": 3
   },
   "file_extension": ".py",
   "mimetype": "text/x-python",
   "name": "python",
   "nbconvert_exporter": "python",
   "pygments_lexer": "ipython3",
   "version": "3.9.13"
  }
 },
 "nbformat": 4,
 "nbformat_minor": 5
}
