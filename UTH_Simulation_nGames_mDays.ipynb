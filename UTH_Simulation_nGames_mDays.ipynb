{
 "cells": [
  {
   "cell_type": "markdown",
   "id": "8d3398f1",
   "metadata": {},
   "source": [
    "# Ultimate Texas Hold'em Simulation\n",
    "## m Days with n Games per Day"
   ]
  },
  {
   "cell_type": "code",
   "execution_count": 73,
   "id": "7fb03f84",
   "metadata": {},
   "outputs": [],
   "source": [
    "from ultimatepoker import Game\n",
    "import sys\n",
    "import pandas\n",
    "from random import seed\n",
    "from random import gauss\n",
    "\n",
    "import matplotlib.pyplot as plt"
   ]
  },
  {
   "cell_type": "code",
   "execution_count": 74,
   "id": "f8cc07cd",
   "metadata": {},
   "outputs": [],
   "source": [
    "n_games_per_day = 400\n",
    "m_days = 1000"
   ]
  },
  {
   "cell_type": "code",
   "execution_count": 75,
   "id": "15d3fc5a",
   "metadata": {},
   "outputs": [],
   "source": [
    "bet_mean = 400\n",
    "bet_std = 0"
   ]
  },
  {
   "cell_type": "code",
   "execution_count": 76,
   "id": "85fe58ef",
   "metadata": {},
   "outputs": [],
   "source": [
    "daily_result = pandas.DataFrame(columns=[\n",
    "    'GameNr',\n",
    "    'PlayerCards',\n",
    "    'DealerCards',\n",
    "    'CommunityCards',\n",
    "    'PlayerHand',\n",
    "    'DealerHand',\n",
    "    'AnteBet',\n",
    "    'BlindBet',\n",
    "    'PlayBet',\n",
    "    'TripsBet',\n",
    "    'PlayerGain',\n",
    "    'PlayerTotalGain',\n",
    "    'PlayerTotalBet'\n",
    "], index=range(1, (n_games_per_day + 1)))"
   ]
  },
  {
   "cell_type": "code",
   "execution_count": 77,
   "id": "6d0e9ae0",
   "metadata": {},
   "outputs": [],
   "source": [
    "total_per_day = pandas.DataFrame(columns=[\n",
    "    'PlayerTotalGain',\n",
    "    'PlayerTotalBet',\n",
    "    'PlayerMaxGain'\n",
    "], index=range(1, (m_days + 1)))"
   ]
  },
  {
   "cell_type": "code",
   "execution_count": 78,
   "id": "cfe7ad4c",
   "metadata": {},
   "outputs": [],
   "source": [
    "seed(42)\n",
    "for cur_day in range(m_days):\n",
    "    dailyGain = 0\n",
    "    dailyBet = 0\n",
    "    \n",
    "    for cur_game in range(n_games_per_day):\n",
    "        bet_size = gauss(bet_mean, bet_std)\n",
    "        \n",
    "        game = Game(bet_size, False)\n",
    "        gain, bet = game.playGame()\n",
    "        \n",
    "        daily_result['GameNr'][cur_game + 1] = cur_game\n",
    "        \n",
    "        daily_result['PlayerCards'][cur_game + 1] = str(game._player[0]) + ', ' + str(game._player[1])\n",
    "        daily_result['DealerCards'][cur_game + 1] = str(game._dealer[0]) + ', ' + str(game._dealer[1])\n",
    "        daily_result['CommunityCards'][cur_game + 1] = str(game._community[0]) + ', ' + \\\n",
    "                                                str(game._community[1]) + ', ' + \\\n",
    "                                                str(game._community[2]) + ', ' + \\\n",
    "                                                str(game._community[3]) + ', ' + \\\n",
    "                                                str(game._community[4])\n",
    "        \n",
    "        daily_result['PlayerHand'][cur_game + 1] = str(game._playerHand)\n",
    "        daily_result['DealerHand'][cur_game + 1] = str(game._dealerHand)\n",
    "        \n",
    "        daily_result['AnteBet'][cur_game + 1] = game._bet.ante\n",
    "        daily_result['BlindBet'][cur_game + 1] = game._bet.blind\n",
    "        daily_result['PlayBet'][cur_game + 1] = game._bet.play\n",
    "        daily_result['TripsBet'][cur_game + 1] = game._bet.trips\n",
    "        \n",
    "        dailyGain += gain\n",
    "        dailyBet += bet\n",
    "        \n",
    "        daily_result['PlayerGain'][cur_game + 1] = gain\n",
    "        \n",
    "        daily_result['PlayerTotalGain'][cur_game + 1] = dailyGain\n",
    "        daily_result['PlayerTotalBet'][cur_game + 1] = dailyBet\n",
    "    \n",
    "    total_per_day['PlayerTotalGain'][cur_day + 1] = dailyGain\n",
    "    total_per_day['PlayerTotalBet'][cur_day + 1] = dailyBet\n",
    "    total_per_day['PlayerMaxGain'][cur_day + 1] = max(daily_result['PlayerTotalGain'])"
   ]
  },
  {
   "cell_type": "code",
   "execution_count": 79,
   "id": "672be482",
   "metadata": {},
   "outputs": [
    {
     "data": {
      "text/html": [
       "<div>\n",
       "<style scoped>\n",
       "    .dataframe tbody tr th:only-of-type {\n",
       "        vertical-align: middle;\n",
       "    }\n",
       "\n",
       "    .dataframe tbody tr th {\n",
       "        vertical-align: top;\n",
       "    }\n",
       "\n",
       "    .dataframe thead th {\n",
       "        text-align: right;\n",
       "    }\n",
       "</style>\n",
       "<table border=\"1\" class=\"dataframe\">\n",
       "  <thead>\n",
       "    <tr style=\"text-align: right;\">\n",
       "      <th></th>\n",
       "      <th>GameNr</th>\n",
       "      <th>PlayerCards</th>\n",
       "      <th>DealerCards</th>\n",
       "      <th>CommunityCards</th>\n",
       "      <th>PlayerHand</th>\n",
       "      <th>DealerHand</th>\n",
       "      <th>AnteBet</th>\n",
       "      <th>BlindBet</th>\n",
       "      <th>PlayBet</th>\n",
       "      <th>TripsBet</th>\n",
       "      <th>PlayerGain</th>\n",
       "      <th>PlayerTotalGain</th>\n",
       "      <th>PlayerTotalBet</th>\n",
       "    </tr>\n",
       "  </thead>\n",
       "  <tbody>\n",
       "    <tr>\n",
       "      <th>1</th>\n",
       "      <td>0</td>\n",
       "      <td>4 of Diamond, 7 of Hearts</td>\n",
       "      <td>K of Clubs, 3 of Clubs</td>\n",
       "      <td>2 of Diamond, A of Hearts, 8 of Diamond, 8 of ...</td>\n",
       "      <td>[8 of Diamond, 8 of Hearts, 5 of Spade, 7 of H...</td>\n",
       "      <td>[8 of Diamond, 8 of Hearts, 5 of Spade, K of C...</td>\n",
       "      <td>400.0</td>\n",
       "      <td>400.0</td>\n",
       "      <td>0.0</td>\n",
       "      <td>400.0</td>\n",
       "      <td>-1200.0</td>\n",
       "      <td>-1200.0</td>\n",
       "      <td>1200.0</td>\n",
       "    </tr>\n",
       "    <tr>\n",
       "      <th>2</th>\n",
       "      <td>1</td>\n",
       "      <td>Q of Hearts, 6 of Spade</td>\n",
       "      <td>7 of Diamond, 6 of Clubs</td>\n",
       "      <td>5 of Diamond, J of Hearts, 10 of Spade, 8 of H...</td>\n",
       "      <td>[5 of Diamond, 5 of Hearts, 10 of Spade, J of ...</td>\n",
       "      <td>[5 of Diamond, 5 of Hearts, 8 of Hearts, 10 of...</td>\n",
       "      <td>400.0</td>\n",
       "      <td>400.0</td>\n",
       "      <td>0.0</td>\n",
       "      <td>400.0</td>\n",
       "      <td>-1200.0</td>\n",
       "      <td>-2400.0</td>\n",
       "      <td>2400.0</td>\n",
       "    </tr>\n",
       "    <tr>\n",
       "      <th>3</th>\n",
       "      <td>2</td>\n",
       "      <td>8 of Clubs, 9 of Spade</td>\n",
       "      <td>10 of Hearts, 8 of Hearts</td>\n",
       "      <td>Q of Diamond, 8 of Spade, A of Diamond, K of S...</td>\n",
       "      <td>[8 of Clubs, 8 of Spade, A of Diamond, A of Cl...</td>\n",
       "      <td>[8 of Hearts, 8 of Spade, A of Diamond, A of C...</td>\n",
       "      <td>400.0</td>\n",
       "      <td>400.0</td>\n",
       "      <td>800.0</td>\n",
       "      <td>400.0</td>\n",
       "      <td>0</td>\n",
       "      <td>-2400.0</td>\n",
       "      <td>4400.0</td>\n",
       "    </tr>\n",
       "    <tr>\n",
       "      <th>4</th>\n",
       "      <td>3</td>\n",
       "      <td>3 of Hearts, 3 of Clubs</td>\n",
       "      <td>10 of Hearts, 2 of Spade</td>\n",
       "      <td>8 of Clubs, 6 of Spade, 4 of Diamond, 3 of Spa...</td>\n",
       "      <td>[3 of Hearts, 3 of Clubs, 3 of Spade, 8 of Clu...</td>\n",
       "      <td>[4 of Diamond, 4 of Clubs, 6 of Spade, 8 of Cl...</td>\n",
       "      <td>400.0</td>\n",
       "      <td>400.0</td>\n",
       "      <td>400.0</td>\n",
       "      <td>400.0</td>\n",
       "      <td>5200.0</td>\n",
       "      <td>2800.0</td>\n",
       "      <td>6000.0</td>\n",
       "    </tr>\n",
       "    <tr>\n",
       "      <th>5</th>\n",
       "      <td>4</td>\n",
       "      <td>7 of Hearts, 10 of Spade</td>\n",
       "      <td>8 of Spade, 3 of Clubs</td>\n",
       "      <td>A of Hearts, 5 of Diamond, 4 of Hearts, 5 of H...</td>\n",
       "      <td>[5 of Diamond, 5 of Hearts, 7 of Hearts, 10 of...</td>\n",
       "      <td>[5 of Diamond, 5 of Hearts, 6 of Clubs, 8 of S...</td>\n",
       "      <td>400.0</td>\n",
       "      <td>400.0</td>\n",
       "      <td>0.0</td>\n",
       "      <td>400.0</td>\n",
       "      <td>-1200.0</td>\n",
       "      <td>1600.0</td>\n",
       "      <td>7200.0</td>\n",
       "    </tr>\n",
       "    <tr>\n",
       "      <th>...</th>\n",
       "      <td>...</td>\n",
       "      <td>...</td>\n",
       "      <td>...</td>\n",
       "      <td>...</td>\n",
       "      <td>...</td>\n",
       "      <td>...</td>\n",
       "      <td>...</td>\n",
       "      <td>...</td>\n",
       "      <td>...</td>\n",
       "      <td>...</td>\n",
       "      <td>...</td>\n",
       "      <td>...</td>\n",
       "      <td>...</td>\n",
       "    </tr>\n",
       "    <tr>\n",
       "      <th>396</th>\n",
       "      <td>395</td>\n",
       "      <td>7 of Diamond, 2 of Clubs</td>\n",
       "      <td>K of Diamond, 10 of Diamond</td>\n",
       "      <td>9 of Diamond, J of Clubs, J of Spade, 4 of Spa...</td>\n",
       "      <td>[J of Clubs, J of Spade, 7 of Diamond, 9 of Di...</td>\n",
       "      <td>[10 of Diamond, 10 of Hearts, J of Clubs, J of...</td>\n",
       "      <td>400.0</td>\n",
       "      <td>400.0</td>\n",
       "      <td>0.0</td>\n",
       "      <td>400.0</td>\n",
       "      <td>-1200.0</td>\n",
       "      <td>0.0</td>\n",
       "      <td>746400.0</td>\n",
       "    </tr>\n",
       "    <tr>\n",
       "      <th>397</th>\n",
       "      <td>396</td>\n",
       "      <td>5 of Hearts, 6 of Hearts</td>\n",
       "      <td>Q of Clubs, Q of Hearts</td>\n",
       "      <td>5 of Spade, 2 of Clubs, A of Spade, 4 of Heart...</td>\n",
       "      <td>[5 of Hearts, 5 of Spade, A of Spade, A of Clu...</td>\n",
       "      <td>[Q of Clubs, Q of Hearts, A of Spade, A of Clu...</td>\n",
       "      <td>400.0</td>\n",
       "      <td>400.0</td>\n",
       "      <td>800.0</td>\n",
       "      <td>400.0</td>\n",
       "      <td>-2000.0</td>\n",
       "      <td>-2000.0</td>\n",
       "      <td>748400.0</td>\n",
       "    </tr>\n",
       "    <tr>\n",
       "      <th>398</th>\n",
       "      <td>397</td>\n",
       "      <td>3 of Spade, 9 of Diamond</td>\n",
       "      <td>4 of Hearts, 5 of Clubs</td>\n",
       "      <td>7 of Diamond, Q of Hearts, Q of Diamond, A of ...</td>\n",
       "      <td>[Q of Hearts, Q of Diamond, 7 of Diamond, 9 of...</td>\n",
       "      <td>[Q of Hearts, Q of Diamond, 6 of Hearts, 7 of ...</td>\n",
       "      <td>400.0</td>\n",
       "      <td>400.0</td>\n",
       "      <td>0.0</td>\n",
       "      <td>400.0</td>\n",
       "      <td>-1200.0</td>\n",
       "      <td>-3200.0</td>\n",
       "      <td>749600.0</td>\n",
       "    </tr>\n",
       "    <tr>\n",
       "      <th>399</th>\n",
       "      <td>398</td>\n",
       "      <td>10 of Spade, Q of Diamond</td>\n",
       "      <td>6 of Clubs, K of Diamond</td>\n",
       "      <td>5 of Hearts, K of Hearts, 9 of Diamond, 8 of S...</td>\n",
       "      <td>[8 of Spade, 9 of Diamond, 10 of Spade, Q of D...</td>\n",
       "      <td>[K of Diamond, K of Hearts, 6 of Clubs, 8 of S...</td>\n",
       "      <td>400.0</td>\n",
       "      <td>400.0</td>\n",
       "      <td>1600.0</td>\n",
       "      <td>400.0</td>\n",
       "      <td>-2800.0</td>\n",
       "      <td>-6000.0</td>\n",
       "      <td>752400.0</td>\n",
       "    </tr>\n",
       "    <tr>\n",
       "      <th>400</th>\n",
       "      <td>399</td>\n",
       "      <td>4 of Spade, A of Clubs</td>\n",
       "      <td>8 of Spade, K of Hearts</td>\n",
       "      <td>2 of Hearts, 5 of Spade, 10 of Clubs, A of Spa...</td>\n",
       "      <td>[A of Clubs, A of Spade, 5 of Spade, 10 of Clu...</td>\n",
       "      <td>[K of Hearts, K of Spade, 8 of Spade, 10 of Cl...</td>\n",
       "      <td>400.0</td>\n",
       "      <td>400.0</td>\n",
       "      <td>1600.0</td>\n",
       "      <td>400.0</td>\n",
       "      <td>1600.0</td>\n",
       "      <td>-4400.0</td>\n",
       "      <td>755200.0</td>\n",
       "    </tr>\n",
       "  </tbody>\n",
       "</table>\n",
       "<p>400 rows × 13 columns</p>\n",
       "</div>"
      ],
      "text/plain": [
       "    GameNr                PlayerCards                  DealerCards  \\\n",
       "1        0  4 of Diamond, 7 of Hearts       K of Clubs, 3 of Clubs   \n",
       "2        1    Q of Hearts, 6 of Spade     7 of Diamond, 6 of Clubs   \n",
       "3        2     8 of Clubs, 9 of Spade    10 of Hearts, 8 of Hearts   \n",
       "4        3    3 of Hearts, 3 of Clubs     10 of Hearts, 2 of Spade   \n",
       "5        4   7 of Hearts, 10 of Spade       8 of Spade, 3 of Clubs   \n",
       "..     ...                        ...                          ...   \n",
       "396    395   7 of Diamond, 2 of Clubs  K of Diamond, 10 of Diamond   \n",
       "397    396   5 of Hearts, 6 of Hearts      Q of Clubs, Q of Hearts   \n",
       "398    397   3 of Spade, 9 of Diamond      4 of Hearts, 5 of Clubs   \n",
       "399    398  10 of Spade, Q of Diamond     6 of Clubs, K of Diamond   \n",
       "400    399     4 of Spade, A of Clubs      8 of Spade, K of Hearts   \n",
       "\n",
       "                                        CommunityCards  \\\n",
       "1    2 of Diamond, A of Hearts, 8 of Diamond, 8 of ...   \n",
       "2    5 of Diamond, J of Hearts, 10 of Spade, 8 of H...   \n",
       "3    Q of Diamond, 8 of Spade, A of Diamond, K of S...   \n",
       "4    8 of Clubs, 6 of Spade, 4 of Diamond, 3 of Spa...   \n",
       "5    A of Hearts, 5 of Diamond, 4 of Hearts, 5 of H...   \n",
       "..                                                 ...   \n",
       "396  9 of Diamond, J of Clubs, J of Spade, 4 of Spa...   \n",
       "397  5 of Spade, 2 of Clubs, A of Spade, 4 of Heart...   \n",
       "398  7 of Diamond, Q of Hearts, Q of Diamond, A of ...   \n",
       "399  5 of Hearts, K of Hearts, 9 of Diamond, 8 of S...   \n",
       "400  2 of Hearts, 5 of Spade, 10 of Clubs, A of Spa...   \n",
       "\n",
       "                                            PlayerHand  \\\n",
       "1    [8 of Diamond, 8 of Hearts, 5 of Spade, 7 of H...   \n",
       "2    [5 of Diamond, 5 of Hearts, 10 of Spade, J of ...   \n",
       "3    [8 of Clubs, 8 of Spade, A of Diamond, A of Cl...   \n",
       "4    [3 of Hearts, 3 of Clubs, 3 of Spade, 8 of Clu...   \n",
       "5    [5 of Diamond, 5 of Hearts, 7 of Hearts, 10 of...   \n",
       "..                                                 ...   \n",
       "396  [J of Clubs, J of Spade, 7 of Diamond, 9 of Di...   \n",
       "397  [5 of Hearts, 5 of Spade, A of Spade, A of Clu...   \n",
       "398  [Q of Hearts, Q of Diamond, 7 of Diamond, 9 of...   \n",
       "399  [8 of Spade, 9 of Diamond, 10 of Spade, Q of D...   \n",
       "400  [A of Clubs, A of Spade, 5 of Spade, 10 of Clu...   \n",
       "\n",
       "                                            DealerHand AnteBet BlindBet  \\\n",
       "1    [8 of Diamond, 8 of Hearts, 5 of Spade, K of C...   400.0    400.0   \n",
       "2    [5 of Diamond, 5 of Hearts, 8 of Hearts, 10 of...   400.0    400.0   \n",
       "3    [8 of Hearts, 8 of Spade, A of Diamond, A of C...   400.0    400.0   \n",
       "4    [4 of Diamond, 4 of Clubs, 6 of Spade, 8 of Cl...   400.0    400.0   \n",
       "5    [5 of Diamond, 5 of Hearts, 6 of Clubs, 8 of S...   400.0    400.0   \n",
       "..                                                 ...     ...      ...   \n",
       "396  [10 of Diamond, 10 of Hearts, J of Clubs, J of...   400.0    400.0   \n",
       "397  [Q of Clubs, Q of Hearts, A of Spade, A of Clu...   400.0    400.0   \n",
       "398  [Q of Hearts, Q of Diamond, 6 of Hearts, 7 of ...   400.0    400.0   \n",
       "399  [K of Diamond, K of Hearts, 6 of Clubs, 8 of S...   400.0    400.0   \n",
       "400  [K of Hearts, K of Spade, 8 of Spade, 10 of Cl...   400.0    400.0   \n",
       "\n",
       "    PlayBet TripsBet PlayerGain PlayerTotalGain PlayerTotalBet  \n",
       "1       0.0    400.0    -1200.0         -1200.0         1200.0  \n",
       "2       0.0    400.0    -1200.0         -2400.0         2400.0  \n",
       "3     800.0    400.0          0         -2400.0         4400.0  \n",
       "4     400.0    400.0     5200.0          2800.0         6000.0  \n",
       "5       0.0    400.0    -1200.0          1600.0         7200.0  \n",
       "..      ...      ...        ...             ...            ...  \n",
       "396     0.0    400.0    -1200.0             0.0       746400.0  \n",
       "397   800.0    400.0    -2000.0         -2000.0       748400.0  \n",
       "398     0.0    400.0    -1200.0         -3200.0       749600.0  \n",
       "399  1600.0    400.0    -2800.0         -6000.0       752400.0  \n",
       "400  1600.0    400.0     1600.0         -4400.0       755200.0  \n",
       "\n",
       "[400 rows x 13 columns]"
      ]
     },
     "execution_count": 79,
     "metadata": {},
     "output_type": "execute_result"
    }
   ],
   "source": [
    "daily_result"
   ]
  },
  {
   "cell_type": "code",
   "execution_count": 80,
   "id": "4b1c8d4a",
   "metadata": {},
   "outputs": [
    {
     "data": {
      "text/html": [
       "<div>\n",
       "<style scoped>\n",
       "    .dataframe tbody tr th:only-of-type {\n",
       "        vertical-align: middle;\n",
       "    }\n",
       "\n",
       "    .dataframe tbody tr th {\n",
       "        vertical-align: top;\n",
       "    }\n",
       "\n",
       "    .dataframe thead th {\n",
       "        text-align: right;\n",
       "    }\n",
       "</style>\n",
       "<table border=\"1\" class=\"dataframe\">\n",
       "  <thead>\n",
       "    <tr style=\"text-align: right;\">\n",
       "      <th></th>\n",
       "      <th>PlayerTotalGain</th>\n",
       "      <th>PlayerTotalBet</th>\n",
       "      <th>PlayerMaxGain</th>\n",
       "    </tr>\n",
       "  </thead>\n",
       "  <tbody>\n",
       "    <tr>\n",
       "      <th>1</th>\n",
       "      <td>-58400.0</td>\n",
       "      <td>755200.0</td>\n",
       "      <td>800.0</td>\n",
       "    </tr>\n",
       "    <tr>\n",
       "      <th>2</th>\n",
       "      <td>2600.0</td>\n",
       "      <td>783200.0</td>\n",
       "      <td>10200.0</td>\n",
       "    </tr>\n",
       "    <tr>\n",
       "      <th>3</th>\n",
       "      <td>-2000.0</td>\n",
       "      <td>766000.0</td>\n",
       "      <td>45600.0</td>\n",
       "    </tr>\n",
       "    <tr>\n",
       "      <th>4</th>\n",
       "      <td>6200.0</td>\n",
       "      <td>797200.0</td>\n",
       "      <td>39600.0</td>\n",
       "    </tr>\n",
       "    <tr>\n",
       "      <th>5</th>\n",
       "      <td>-78800.0</td>\n",
       "      <td>770000.0</td>\n",
       "      <td>6200.0</td>\n",
       "    </tr>\n",
       "    <tr>\n",
       "      <th>...</th>\n",
       "      <td>...</td>\n",
       "      <td>...</td>\n",
       "      <td>...</td>\n",
       "    </tr>\n",
       "    <tr>\n",
       "      <th>996</th>\n",
       "      <td>-61600.0</td>\n",
       "      <td>773200.0</td>\n",
       "      <td>10400.0</td>\n",
       "    </tr>\n",
       "    <tr>\n",
       "      <th>997</th>\n",
       "      <td>19400.0</td>\n",
       "      <td>789200.0</td>\n",
       "      <td>27400.0</td>\n",
       "    </tr>\n",
       "    <tr>\n",
       "      <th>998</th>\n",
       "      <td>-14200.0</td>\n",
       "      <td>778400.0</td>\n",
       "      <td>21600.0</td>\n",
       "    </tr>\n",
       "    <tr>\n",
       "      <th>999</th>\n",
       "      <td>-30200.0</td>\n",
       "      <td>754400.0</td>\n",
       "      <td>27000.0</td>\n",
       "    </tr>\n",
       "    <tr>\n",
       "      <th>1000</th>\n",
       "      <td>-4400.0</td>\n",
       "      <td>755200.0</td>\n",
       "      <td>11800.0</td>\n",
       "    </tr>\n",
       "  </tbody>\n",
       "</table>\n",
       "<p>1000 rows × 3 columns</p>\n",
       "</div>"
      ],
      "text/plain": [
       "     PlayerTotalGain PlayerTotalBet PlayerMaxGain\n",
       "1           -58400.0       755200.0         800.0\n",
       "2             2600.0       783200.0       10200.0\n",
       "3            -2000.0       766000.0       45600.0\n",
       "4             6200.0       797200.0       39600.0\n",
       "5           -78800.0       770000.0        6200.0\n",
       "...              ...            ...           ...\n",
       "996         -61600.0       773200.0       10400.0\n",
       "997          19400.0       789200.0       27400.0\n",
       "998         -14200.0       778400.0       21600.0\n",
       "999         -30200.0       754400.0       27000.0\n",
       "1000         -4400.0       755200.0       11800.0\n",
       "\n",
       "[1000 rows x 3 columns]"
      ]
     },
     "execution_count": 80,
     "metadata": {},
     "output_type": "execute_result"
    }
   ],
   "source": [
    "total_per_day"
   ]
  },
  {
   "cell_type": "code",
   "execution_count": 81,
   "id": "bb99a77f",
   "metadata": {},
   "outputs": [
    {
     "data": {
      "text/plain": [
       "Text(0, 0.5, 'Frequency')"
      ]
     },
     "execution_count": 81,
     "metadata": {},
     "output_type": "execute_result"
    },
    {
     "data": {
      "image/png": "[encoded data removed]",
      "text/plain": [
       "<Figure size 640x480 with 1 Axes>"
      ]
     },
     "metadata": {},
     "output_type": "display_data"
    }
   ],
   "source": [
    "n, bins, patches = plt.hist(x=total_per_day['PlayerTotalGain'],\n",
    "                           bins='auto',\n",
    "                           color='#1A2B44', # Night Blue: #1A2B44 St. Moritz Gold: #B79164\n",
    "                           alpha=0.9,\n",
    "                           rwidth=0.85)\n",
    "plt.grid(axis='y', alpha=0.75)\n",
    "plt.xlabel('Player gain for one day')\n",
    "plt.ylabel('Frequency')"
   ]
  },
  {
   "cell_type": "code",
   "execution_count": 82,
   "id": "b3b85f78",
   "metadata": {},
   "outputs": [
    {
     "data": {
      "text/plain": [
       "254400.0"
      ]
     },
     "execution_count": 82,
     "metadata": {},
     "output_type": "execute_result"
    }
   ],
   "source": [
    "max(total_per_day['PlayerTotalGain'])"
   ]
  },
  {
   "cell_type": "code",
   "execution_count": 83,
   "id": "0246e0cc",
   "metadata": {},
   "outputs": [
    {
     "data": {
      "text/plain": [
       "GameNr                                                           247\n",
       "PlayerCards                                 4 of Diamond, 4 of Spade\n",
       "DealerCards                                  Q of Spade, A of Hearts\n",
       "CommunityCards     9 of Diamond, 10 of Hearts, 2 of Diamond, Q of...\n",
       "PlayerHand         [4 of Diamond, 4 of Spade, 10 of Hearts, J of ...\n",
       "DealerHand         [Q of Spade, Q of Diamond, 10 of Hearts, J of ...\n",
       "AnteBet                                                        400.0\n",
       "BlindBet                                                       400.0\n",
       "PlayBet                                                          0.0\n",
       "TripsBet                                                       400.0\n",
       "PlayerGain                                                   -1200.0\n",
       "PlayerTotalGain                                             -20200.0\n",
       "PlayerTotalBet                                              468400.0\n",
       "Name: 248, dtype: object"
      ]
     },
     "execution_count": 83,
     "metadata": {},
     "output_type": "execute_result"
    }
   ],
   "source": [
    "daily_result.iloc[247]"
   ]
  },
  {
   "cell_type": "code",
   "execution_count": 84,
   "id": "25189b6f",
   "metadata": {},
   "outputs": [
    {
     "data": {
      "text/plain": [
       "'4 of Diamond, 4 of Spade'"
      ]
     },
     "execution_count": 84,
     "metadata": {},
     "output_type": "execute_result"
    }
   ],
   "source": [
    "daily_result['PlayerCards'][248]"
   ]
  },
  {
   "cell_type": "code",
   "execution_count": 85,
   "id": "858a4391",
   "metadata": {},
   "outputs": [
    {
     "data": {
      "text/plain": [
       "'Q of Spade, A of Hearts'"
      ]
     },
     "execution_count": 85,
     "metadata": {},
     "output_type": "execute_result"
    }
   ],
   "source": [
    "daily_result['DealerCards'][248]"
   ]
  },
  {
   "cell_type": "code",
   "execution_count": 86,
   "id": "26f250fb",
   "metadata": {},
   "outputs": [
    {
     "data": {
      "text/plain": [
       "'9 of Diamond, 10 of Hearts, 2 of Diamond, Q of Diamond, J of Clubs'"
      ]
     },
     "execution_count": 86,
     "metadata": {},
     "output_type": "execute_result"
    }
   ],
   "source": [
    "daily_result['CommunityCards'][248]"
   ]
  },
  {
   "cell_type": "code",
   "execution_count": 87,
   "id": "b51f0467",
   "metadata": {},
   "outputs": [
    {
     "data": {
      "text/plain": [
       "'[4 of Diamond, 4 of Spade, 10 of Hearts, J of Clubs, Q of Diamond] (Type: PAIR)'"
      ]
     },
     "execution_count": 87,
     "metadata": {},
     "output_type": "execute_result"
    }
   ],
   "source": [
    "daily_result['PlayerHand'][248]"
   ]
  },
  {
   "cell_type": "code",
   "execution_count": 88,
   "id": "fc7a628c",
   "metadata": {},
   "outputs": [
    {
     "data": {
      "text/plain": [
       "'[Q of Spade, Q of Diamond, 10 of Hearts, J of Clubs, A of Hearts] (Type: PAIR)'"
      ]
     },
     "execution_count": 88,
     "metadata": {},
     "output_type": "execute_result"
    }
   ],
   "source": [
    "daily_result['DealerHand'][248]"
   ]
  }
 ],
 "metadata": {
  "kernelspec": {
   "display_name": "Python 3 (ipykernel)",
   "language": "python",
   "name": "python3"
  },
  "language_info": {
   "codemirror_mode": {
    "name": "ipython",
    "version": 3
   },
   "file_extension": ".py",
   "mimetype": "text/x-python",
   "name": "python",
   "nbconvert_exporter": "python",
   "pygments_lexer": "ipython3",
   "version": "3.9.13"
  }
 },
 "nbformat": 4,
 "nbformat_minor": 5
}
